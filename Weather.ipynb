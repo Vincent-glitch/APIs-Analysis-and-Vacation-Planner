{
 "cells": [
  {
   "cell_type": "code",
   "execution_count": 1,
   "metadata": {},
   "outputs": [],
   "source": [
    "# Dependencies and Setup\n",
    "import matplotlib.pyplot as plt\n",
    "import pandas as pd\n",
    "import numpy as np\n",
    "import requests\n",
    "import time\n",
    "import csv\n",
    "from scipy.stats import linregress\n",
    "\n",
    "# Import API key\n",
    "from api_keys import weather_api_key\n",
    "\n",
    "# Incorporated citipy to determine city based on latitude and longitude\n",
    "from citipy import citipy\n",
    "\n",
    "# Output File (CSV)\n",
    "output_data_file = \"output_data/cities.csv\"\n",
    "\n",
    "# Range of latitudes and longitudes\n",
    "lat_range = (-90, 90)\n",
    "lng_range = (-180, 180)"
   ]
  },
  {
   "cell_type": "code",
   "execution_count": 2,
   "metadata": {},
   "outputs": [],
   "source": [
    "# List for holding lat_lngs and cities\n",
    "lat_lngs = []\n",
    "cities = []\n",
    "complete_list = []\n",
    "\n",
    "# Create a set of random lat and lng combinations\n",
    "lats = np.random.uniform(lat_range[0], lat_range[1], size=1500)\n",
    "lngs = np.random.uniform(lng_range[0], lng_range[1], size=1500)\n",
    "lat_lngs = zip(lats, lngs)\n",
    "\n",
    "# Identify nearest city for each lat, lng combination\n",
    "for lat_lng in lat_lngs:\n",
    "    city = citipy.nearest_city(lat_lng[0], lat_lng[1]).city_name\n",
    "    \n",
    "    # If the city is unique, then add it to a our cities list\n",
    "    if city not in cities:\n",
    "        cities.append(city)\n",
    "\n",
    "# Print the city count to confirm sufficient count\n",
    "url = \"http://api.openweathermap.org/data/2.5/weather?q=\" "
   ]
  },
  {
   "cell_type": "code",
   "execution_count": 3,
   "metadata": {},
   "outputs": [],
   "source": [
    "test = cities[0:200]"
   ]
  },
  {
   "cell_type": "markdown",
   "metadata": {},
   "source": [
    "###### len(test)\n",
    "complete_list.dropna(how='any')"
   ]
  },
  {
   "cell_type": "code",
   "execution_count": 4,
   "metadata": {},
   "outputs": [
    {
     "name": "stdout",
     "output_type": "stream",
     "text": [
      "exception\n",
      "exception\n",
      "exception\n",
      "exception\n",
      "exception\n",
      "exception\n",
      "exception\n",
      "exception\n",
      "exception\n",
      "exception\n",
      "exception\n",
      "exception\n",
      "exception\n",
      "exception\n",
      "exception\n",
      "exception\n",
      "exception\n",
      "exception\n"
     ]
    }
   ],
   "source": [
    "for city in test: \n",
    "    try:\n",
    "        query_url = f'{url}{city}&appid={weather_api_key}'\n",
    "        response = requests.get(query_url).json()\n",
    "# print(response) \n",
    "        complete_list.append({\"City\":response['name'],\"Temperature\":response['main']['temp'],\"Humidity\":response['main']['humidity'], \"Cloudiness\":response['clouds']['all'], \"Wind Speed\":response['wind']['speed'], \"Latitude\":response['coord']['lat'], \"Longitude\":response['coord']['lon']})\n",
    "    except KeyError:\n",
    "        print(\"exception\")\n",
    "# print(f'{cities} \\n and {test_dict}') \n",
    "# print(complete_list)"
   ]
  },
  {
   "cell_type": "code",
   "execution_count": 8,
   "metadata": {},
   "outputs": [
    {
     "data": {
      "text/plain": [
       "298.95"
      ]
     },
     "execution_count": 8,
     "metadata": {},
     "output_type": "execute_result"
    }
   ],
   "source": [
    "api_df = pd.DataFrame(complete_list)\n",
    "api_df\n",
    "#index = false when writing it to a csv\n",
    "response['main']['temp']"
   ]
  },
  {
   "cell_type": "code",
   "execution_count": 5,
   "metadata": {},
   "outputs": [],
   "source": [
    "query_url = f'{url}{city}&appid={weather_api_key}'\n",
    "response = requests.get(query_url).json()"
   ]
  },
  {
   "cell_type": "code",
   "execution_count": null,
   "metadata": {},
   "outputs": [],
   "source": [
    "complete_list.dropna(how='any')"
   ]
  },
  {
   "cell_type": "code",
   "execution_count": null,
   "metadata": {},
   "outputs": [],
   "source": [
    "api_df = pd.DataFrame(complete_list)\n",
    "api_df.dropna(how='any')"
   ]
  },
  {
   "cell_type": "code",
   "execution_count": null,
   "metadata": {},
   "outputs": [],
   "source": [
    "cities_df = api_df[0:500]\n",
    "cities_df\n",
    "\n",
    "n = 0\n",
    "while len(complete_list) <500:"
   ]
  },
  {
   "cell_type": "code",
   "execution_count": null,
   "metadata": {},
   "outputs": [],
   "source": [
    "n = 0\n",
    "while len(complete_list) <500:\n",
    "    try:\n",
    "        city = cities[n]\n",
    "        query_url = f'{url}{city}&appid={weather_api_key}'\n",
    "        response = requests.get(query_url).json()\n",
    "# print(response) \n",
    "        complete_list.append({\"City\":response['name'],\"Temperature\":response['main']['temp'],\"Humidity\":response['main']['humidity'], \"Cloudiness\":response['clouds']['all'], \"Wind Speed\":response['wind']['speed'], \"Latitude\":response['coord']['lat']})\n",
    "    except KeyError:\n",
    "        print(\"exception\")\n",
    "    # Create a set of random lat and lng combinations\n",
    "    if n == len(cities):\n",
    "        print(f'The number of cities examied so far is {n}, fetching new citites.')\n",
    "\n",
    "        lats = []\n",
    "        lngs = []\n",
    "        \n",
    "        lats = np.random.uniform(lat_range[0], lat_range[1], size=1500)\n",
    "        lngs = np.random.uniform(lng_range[0], lng_range[1], size=1500)\n",
    "        lat_lngs = zip(lats, lngs)\n",
    "\n",
    "        for lat_lng in lat_lngs:\n",
    "            city = citipy.nearest_city(lat_lng[0], lat_lng[1]).city_name\n",
    "            \n",
    "            # If the city is unique, then add it to a our cities list\n",
    "            if city not in cities:\n",
    "                cities.append(city)\n",
    "    n = n + 1"
   ]
  },
  {
   "cell_type": "code",
   "execution_count": null,
   "metadata": {},
   "outputs": [],
   "source": [
    "northern_hem_df = cities_df[cities_df[\"Latitude\"] <= .01 ]\n",
    "southern_hem_df = cities_df[cities_df[\"Latitude\"] >= .01 ]\n",
    "northern_hem_df"
   ]
  },
  {
   "cell_type": "code",
   "execution_count": null,
   "metadata": {},
   "outputs": [],
   "source": [
    "plt.scatter(api_df[\"Latitude\"],api_df[\"Temperature\"], marker=\"o\", facecolors=\"red\", edgecolors=\"black\")\n",
    "plt.title(\"Temperature (C) vs. Latitude\")\n",
    "plt.ylabel(\"Temperature (C)\")\n",
    "plt.xlabel(\"Latitude\")"
   ]
  },
  {
   "cell_type": "code",
   "execution_count": null,
   "metadata": {},
   "outputs": [],
   "source": [
    "plt.scatter(api_df[\"Latitude\"],api_df[\"Humidity\"], marker=\"o\", facecolors=\"red\", edgecolors=\"black\")\n",
    "plt.title(\"Humidity vs. Latitude\")\n",
    "plt.ylabel(\"Humidity\")\n",
    "plt.xlabel(\"Latitude\")"
   ]
  },
  {
   "cell_type": "code",
   "execution_count": null,
   "metadata": {},
   "outputs": [],
   "source": [
    "plt.scatter(api_df[\"Latitude\"],api_df[\"Cloudiness\"], marker=\"o\", facecolors=\"red\", edgecolors=\"black\")\n",
    "plt.title(\"Cloudiness vs. Latitude\")\n",
    "plt.ylabel(\"Cloudiness\")\n",
    "plt.xlabel(\"Latitude\")"
   ]
  },
  {
   "cell_type": "code",
   "execution_count": null,
   "metadata": {},
   "outputs": [],
   "source": [
    "plt.scatter(api_df3[\"Latitude\"],api_df3[\"Wind Speed\"], marker=\"o\", facecolors=\"red\", edgecolors=\"black\")\n",
    "plt.title(\"Wind Speed (MPH) vs. Latitude\")\n",
    "plt.ylabel(\"Wind Speed (MPH)\")\n",
    "plt.xlabel(\"Latitude\")"
   ]
  },
  {
   "cell_type": "markdown",
   "metadata": {},
   "source": [
    "Your second requirement is to run linear regression on each relationship, only this time separating them into Northern Hemisphere (greater than or equal to 0 degrees latitude) and Southern Hemisphere (less than 0 degrees latitude):\n",
    "\n",
    "* Northern Hemisphere - Temperature (F) vs. Latitude\n",
    "* Southern Hemisphere - Temperature (F) vs. Latitude\n",
    "* Northern Hemisphere - Humidity (%) vs. Latitude\n",
    "* Southern Hemisphere - Humidity (%) vs. Latitude\n",
    "* Northern Hemisphere - Cloudiness (%) vs. Latitude\n",
    "* Southern Hemisphere - Cloudiness (%) vs. Latitude\n",
    "* Northern Hemisphere - Wind Speed (mph) vs. Latitude\n",
    "* Southern Hemisphere - Wind Speed (mph) vs. Latitude\n",
    "\n",
    "After each pair of plots explain what the linear regression is modeling such as any relationships you notice and any other analysis you may have."
   ]
  },
  {
   "cell_type": "code",
   "execution_count": null,
   "metadata": {},
   "outputs": [],
   "source": [
    "plt.scatter(southern_hem_df[\"Latitude\"],southern_hem_df[\"Temperature\"], marker=\"o\", facecolors=\"red\", edgecolors=\"black\")\n",
    "plt.title(\"Southern Hemisphere Temperature (C) vs. Latitude\")\n",
    "plt.ylabel(\"Temperature (C)\")\n",
    "plt.xlabel(\"Latitude\")\n",
    "#\n",
    "(slope, intercept, rvalue, pvalue, stderr) = linregress(southern_hem_df[\"Latitude\"], southern_hem_df[\"Temperature\"])\n",
    "regress_values = southern_hem_df[\"Latitude\"] * slope + intercept\n",
    "line_eq = \"y = \" + str(round(slope,2)) + \"x + \" + str(round(intercept,2))\n",
    "plt.plot(southern_hem_df[\"Latitude\"],regress_values,\"r-\")\n",
    "plt.annotate(line_eq,(276,20),fontsize=15,color=\"red\")\n",
    "plt.show()"
   ]
  },
  {
   "cell_type": "code",
   "execution_count": null,
   "metadata": {},
   "outputs": [],
   "source": [
    "plt.scatter(northern_hem_df[\"Latitude\"],northern_hem_df[\"Temperature\"], marker=\"o\", facecolors=\"red\", edgecolors=\"black\")\n",
    "plt.title(\"Northern Hemisphere Temperature (C) vs. Latitude\")\n",
    "plt.ylabel(\"Temperature (C)\")\n",
    "plt.xlabel(\"Latitude\")\n",
    "#\n",
    "(slope, intercept, rvalue, pvalue, stderr) = linregress(northern_hem_df[\"Latitude\"], northern_hem_df[\"Temperature\"])\n",
    "regress_values = northern_hem_df[\"Latitude\"] * slope + intercept\n",
    "plt.plot(northern_hem_df[\"Latitude\"],regress_values,\"r-\")\n",
    "plt.annotate(line_eq,(5,270),fontsize=8,color=\"black\")"
   ]
  },
  {
   "cell_type": "code",
   "execution_count": null,
   "metadata": {},
   "outputs": [],
   "source": [
    "plt.scatter(northern_hem_df[\"Latitude\"],northern_hem_df[\"Humidity\"], marker=\"o\", facecolors=\"red\", edgecolors=\"black\")\n",
    "plt.title(\"Northern Hemisphere Humidity vs. Latitude\")\n",
    "plt.ylabel(\"Humidity\")\n",
    "plt.xlabel(\"Latitude\")\n",
    "(slope, intercept, rvalue, pvalue, stderr) = linregress(northern_hem_df[\"Latitude\"], northern_hem_df[\"Humidity\"])\n",
    "regress_values = northern_hem_df[\"Latitude\"] * slope + intercept\n",
    "plt.plot(northern_hem_df[\"Latitude\"],regress_values,\"r-\")"
   ]
  },
  {
   "cell_type": "code",
   "execution_count": null,
   "metadata": {},
   "outputs": [],
   "source": [
    "plt.scatter(southern_hem_df[\"Latitude\"],southern_hem_df[\"Humidity\"], marker=\"o\", facecolors=\"red\", edgecolors=\"black\")\n",
    "plt.title(\"Southern Hemisphere Humidity vs. Latitude\")\n",
    "plt.ylabel(\"Humidity\")\n",
    "plt.xlabel(\"Latitude\")\n",
    "(slope, intercept, rvalue, pvalue, stderr) = linregress(southern_hem_df[\"Latitude\"], southern_hem_df[\"Humidity\"])\n",
    "regress_values = southern_hem_df[\"Latitude\"] * slope + intercept\n",
    "plt.plot(southern_hem_df[\"Latitude\"],regress_values,\"r-\")"
   ]
  },
  {
   "cell_type": "code",
   "execution_count": null,
   "metadata": {},
   "outputs": [],
   "source": [
    "plt.scatter(northern_hem_df[\"Latitude\"],northern_hem_df[\"Wind Speed\"], marker=\"o\", facecolors=\"red\", edgecolors=\"black\")\n",
    "plt.title(\"Northern Hemisphere Wind Speed (MPH) vs. Latitude\")\n",
    "plt.ylabel(\"Wind Speed (MPH)\")\n",
    "plt.xlabel(\"Latitude\")\n",
    "(slope, intercept, rvalue, pvalue, stderr) = linregress(northern_hem_df[\"Latitude\"], northern_hem_df[\"Wind Speed\"])\n",
    "regress_values = northern_hem_df[\"Latitude\"] * slope + intercept\n",
    "plt.plot(northern_hem_df[\"Latitude\"],regress_values,\"r-\")"
   ]
  },
  {
   "cell_type": "code",
   "execution_count": null,
   "metadata": {},
   "outputs": [],
   "source": [
    "southern_hem_df_wind = southern_hem_df[southern_hem_df['Wind Speed'] <29]\n",
    "plt.scatter(southern_hem_df_wind[\"Latitude\"],southern_hem_df_wind[\"Wind Speed\"], marker=\"o\", facecolors=\"red\", edgecolors=\"black\")\n",
    "plt.title(\"Southern Hemisphere Wind Speed (MPH) vs. Latitude\")\n",
    "plt.ylabel(\"Wind Speed (MPH)\")\n",
    "plt.xlabel(\"Latitude\")\n",
    "(slope, intercept, rvalue, pvalue, stderr) = linregress(southern_hem_df[\"Latitude\"], southern_hem_df[\"Wind Speed\"])\n",
    "regress_values = southern_hem_df[\"Latitude\"] * slope + intercept\n",
    "plt.plot(southern_hem_df[\"Latitude\"],regress_values,\"r-\")"
   ]
  },
  {
   "cell_type": "code",
   "execution_count": null,
   "metadata": {},
   "outputs": [],
   "source": [
    "plt.scatter(northern_hem_df[\"Latitude\"],northern_hem_df[\"Cloudiness\"], marker=\"o\", facecolors=\"red\", edgecolors=\"black\")\n",
    "plt.title(\"Northern Hemisphere Cloudiness vs. Latitude\")\n",
    "plt.ylabel(\"Cloudiness\")\n",
    "plt.xlabel(\"Latitude\")\n",
    "(slope, intercept, rvalue, pvalue, stderr) = linregress(northern_hem_df[\"Latitude\"], northern_hem_df[\"Cloudiness\"])\n",
    "regress_values = northern_hem_df[\"Latitude\"] * slope + intercept\n",
    "plt.plot(northern_hem_df[\"Latitude\"],regress_values,\"r-\")"
   ]
  },
  {
   "cell_type": "code",
   "execution_count": null,
   "metadata": {},
   "outputs": [],
   "source": [
    "plt.scatter(southern_hem_df[\"Latitude\"],southern_hem_df[\"Cloudiness\"], marker=\"o\", facecolors=\"red\", edgecolors=\"black\")\n",
    "plt.title(\"Southern Hemisphere Cloudiness vs. Latitude\")\n",
    "plt.ylabel(\"Cloudiness\")\n",
    "plt.xlabel(\"Latitude\")\n",
    "(slope, intercept, rvalue, pvalue, stderr) = linregress(southern_hem_df[\"Latitude\"], southern_hem_df[\"Cloudiness\"])\n",
    "regress_values = southern_hem_df[\"Latitude\"] * slope + intercept\n",
    "plt.plot(southern_hem_df[\"Latitude\"],regress_values,\"r-\")"
   ]
  },
  {
   "cell_type": "code",
   "execution_count": null,
   "metadata": {},
   "outputs": [],
   "source": [
    "cities_df.to_csv('output_data/cities.csv')"
   ]
  },
  {
   "cell_type": "code",
   "execution_count": null,
   "metadata": {},
   "outputs": [],
   "source": []
  }
 ],
 "metadata": {
  "kernelspec": {
   "display_name": "Python 3",
   "language": "python",
   "name": "python3"
  },
  "language_info": {
   "codemirror_mode": {
    "name": "ipython",
    "version": 3
   },
   "file_extension": ".py",
   "mimetype": "text/x-python",
   "name": "python",
   "nbconvert_exporter": "python",
   "pygments_lexer": "ipython3",
   "version": "3.7.6"
  }
 },
 "nbformat": 4,
 "nbformat_minor": 4
}
