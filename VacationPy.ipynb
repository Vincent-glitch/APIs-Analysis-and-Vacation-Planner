{
 "cells": [
  {
   "cell_type": "markdown",
   "metadata": {},
   "source": [
    "# VacationPy\n",
    "----\n",
    "\n",
    "#### Note\n",
    "* Instructions have been included for each segment. You do not have to follow them exactly, but they are included to help you think through the steps."
   ]
  },
  {
   "cell_type": "code",
   "execution_count": null,
   "metadata": {},
   "outputs": [],
   "source": []
  },
  {
   "cell_type": "code",
   "execution_count": 20,
   "metadata": {},
   "outputs": [],
   "source": [
    "# Dependencies and Setup\n",
    "import matplotlib.pyplot as plt\n",
    "import pandas as pd\n",
    "import numpy as np\n",
    "import requests\n",
    "import gmaps\n",
    "import os\n",
    "import gmaps\n",
    "import gmaps.datasets\n",
    "from urllib.parse import urlencode\n",
    "\n",
    "# Import API key\n",
    "from api_keys import g_key\n",
    "gmaps.configure(api_key=g_key) \n",
    "file_to_load = ('output_data/cities.csv')\n",
    "url1 =\"https://maps.googleapis.com/maps/api/place/nearbysearch/json?location=\"\n",
    "url2 = f\"&radius=5000&type=lodging&keyword=hotel&key={g_key}\"\n",
    "\n",
    "# Read Purchasing File and store into Pandas data frame\n",
    "weather_df = pd.read_csv(file_to_load)"
   ]
  },
  {
   "cell_type": "code",
   "execution_count": 2,
   "metadata": {},
   "outputs": [],
   "source": [
    "#idk what that column was\n",
    "weather_df = weather_df.drop(columns=['Unnamed: 0'])"
   ]
  },
  {
   "cell_type": "code",
   "execution_count": 3,
   "metadata": {},
   "outputs": [
    {
     "data": {
      "text/html": [
       "<div>\n",
       "<style scoped>\n",
       "    .dataframe tbody tr th:only-of-type {\n",
       "        vertical-align: middle;\n",
       "    }\n",
       "\n",
       "    .dataframe tbody tr th {\n",
       "        vertical-align: top;\n",
       "    }\n",
       "\n",
       "    .dataframe thead th {\n",
       "        text-align: right;\n",
       "    }\n",
       "</style>\n",
       "<table border=\"1\" class=\"dataframe\">\n",
       "  <thead>\n",
       "    <tr style=\"text-align: right;\">\n",
       "      <th></th>\n",
       "      <th>City</th>\n",
       "      <th>Temperature</th>\n",
       "      <th>Humidity</th>\n",
       "      <th>Cloudiness</th>\n",
       "      <th>Wind Speed</th>\n",
       "      <th>Latitude</th>\n",
       "      <th>Longitude</th>\n",
       "    </tr>\n",
       "  </thead>\n",
       "  <tbody>\n",
       "    <tr>\n",
       "      <th>0</th>\n",
       "      <td>Puerto Ayora</td>\n",
       "      <td>295.38</td>\n",
       "      <td>61</td>\n",
       "      <td>20</td>\n",
       "      <td>6.20</td>\n",
       "      <td>-0.74</td>\n",
       "      <td>-90.35</td>\n",
       "    </tr>\n",
       "    <tr>\n",
       "      <th>1</th>\n",
       "      <td>Bāglung</td>\n",
       "      <td>292.83</td>\n",
       "      <td>76</td>\n",
       "      <td>18</td>\n",
       "      <td>1.09</td>\n",
       "      <td>28.27</td>\n",
       "      <td>83.59</td>\n",
       "    </tr>\n",
       "    <tr>\n",
       "      <th>2</th>\n",
       "      <td>New Norfolk</td>\n",
       "      <td>280.37</td>\n",
       "      <td>87</td>\n",
       "      <td>35</td>\n",
       "      <td>0.45</td>\n",
       "      <td>-42.78</td>\n",
       "      <td>147.06</td>\n",
       "    </tr>\n",
       "    <tr>\n",
       "      <th>3</th>\n",
       "      <td>Kalutara</td>\n",
       "      <td>299.15</td>\n",
       "      <td>94</td>\n",
       "      <td>40</td>\n",
       "      <td>1.50</td>\n",
       "      <td>6.58</td>\n",
       "      <td>79.96</td>\n",
       "    </tr>\n",
       "    <tr>\n",
       "      <th>4</th>\n",
       "      <td>Udachny</td>\n",
       "      <td>272.15</td>\n",
       "      <td>100</td>\n",
       "      <td>90</td>\n",
       "      <td>7.00</td>\n",
       "      <td>66.42</td>\n",
       "      <td>112.40</td>\n",
       "    </tr>\n",
       "    <tr>\n",
       "      <th>...</th>\n",
       "      <td>...</td>\n",
       "      <td>...</td>\n",
       "      <td>...</td>\n",
       "      <td>...</td>\n",
       "      <td>...</td>\n",
       "      <td>...</td>\n",
       "      <td>...</td>\n",
       "    </tr>\n",
       "    <tr>\n",
       "      <th>495</th>\n",
       "      <td>Virginia Beach</td>\n",
       "      <td>300.20</td>\n",
       "      <td>58</td>\n",
       "      <td>20</td>\n",
       "      <td>5.70</td>\n",
       "      <td>36.85</td>\n",
       "      <td>-75.98</td>\n",
       "    </tr>\n",
       "    <tr>\n",
       "      <th>496</th>\n",
       "      <td>San Francisco del Mar Viejo</td>\n",
       "      <td>302.22</td>\n",
       "      <td>73</td>\n",
       "      <td>9</td>\n",
       "      <td>3.05</td>\n",
       "      <td>16.23</td>\n",
       "      <td>-94.65</td>\n",
       "    </tr>\n",
       "    <tr>\n",
       "      <th>497</th>\n",
       "      <td>Balingasay</td>\n",
       "      <td>301.52</td>\n",
       "      <td>75</td>\n",
       "      <td>100</td>\n",
       "      <td>2.62</td>\n",
       "      <td>16.36</td>\n",
       "      <td>119.86</td>\n",
       "    </tr>\n",
       "    <tr>\n",
       "      <th>498</th>\n",
       "      <td>Biak</td>\n",
       "      <td>296.77</td>\n",
       "      <td>80</td>\n",
       "      <td>41</td>\n",
       "      <td>2.10</td>\n",
       "      <td>-0.91</td>\n",
       "      <td>122.88</td>\n",
       "    </tr>\n",
       "    <tr>\n",
       "      <th>499</th>\n",
       "      <td>Taseyevo</td>\n",
       "      <td>277.81</td>\n",
       "      <td>89</td>\n",
       "      <td>98</td>\n",
       "      <td>2.10</td>\n",
       "      <td>57.22</td>\n",
       "      <td>94.90</td>\n",
       "    </tr>\n",
       "  </tbody>\n",
       "</table>\n",
       "<p>500 rows × 7 columns</p>\n",
       "</div>"
      ],
      "text/plain": [
       "                            City  Temperature  Humidity  Cloudiness  \\\n",
       "0                   Puerto Ayora       295.38        61          20   \n",
       "1                        Bāglung       292.83        76          18   \n",
       "2                    New Norfolk       280.37        87          35   \n",
       "3                       Kalutara       299.15        94          40   \n",
       "4                        Udachny       272.15       100          90   \n",
       "..                           ...          ...       ...         ...   \n",
       "495               Virginia Beach       300.20        58          20   \n",
       "496  San Francisco del Mar Viejo       302.22        73           9   \n",
       "497                   Balingasay       301.52        75         100   \n",
       "498                         Biak       296.77        80          41   \n",
       "499                     Taseyevo       277.81        89          98   \n",
       "\n",
       "     Wind Speed  Latitude  Longitude  \n",
       "0          6.20     -0.74     -90.35  \n",
       "1          1.09     28.27      83.59  \n",
       "2          0.45    -42.78     147.06  \n",
       "3          1.50      6.58      79.96  \n",
       "4          7.00     66.42     112.40  \n",
       "..          ...       ...        ...  \n",
       "495        5.70     36.85     -75.98  \n",
       "496        3.05     16.23     -94.65  \n",
       "497        2.62     16.36     119.86  \n",
       "498        2.10     -0.91     122.88  \n",
       "499        2.10     57.22      94.90  \n",
       "\n",
       "[500 rows x 7 columns]"
      ]
     },
     "execution_count": 3,
     "metadata": {},
     "output_type": "execute_result"
    }
   ],
   "source": [
    "weather_df"
   ]
  },
  {
   "cell_type": "markdown",
   "metadata": {},
   "source": [
    "### Humidity Heatmap\n",
    "* Configure gmaps.\n",
    "* Use the Lat and Lng as locations and Humidity as the weight.\n",
    "* Add Heatmap layer to map."
   ]
  },
  {
   "cell_type": "code",
   "execution_count": 21,
   "metadata": {},
   "outputs": [
    {
     "data": {
      "application/vnd.jupyter.widget-view+json": {
       "model_id": "249d8c0f157548d9979dfe6856da6932",
       "version_major": 2,
       "version_minor": 0
      },
      "text/plain": [
       "Figure(layout=FigureLayout(height='420px'))"
      ]
     },
     "metadata": {},
     "output_type": "display_data"
    }
   ],
   "source": [
    "locations = weather_df[[\"Latitude\", \"Longitude\"]]\n",
    "humidity = weather_df[\"Humidity\"]\n",
    "# Plot Heatmap\n",
    "fig = gmaps.figure(center=(46.0, -5.0), zoom_level=2)\n",
    "\n",
    "# Create heat layer\n",
    "heat_layer = gmaps.heatmap_layer(locations, weights = humidity, dissipating=False, max_intensity=np.max(humidity), point_radius=3)\n",
    "\n",
    "# Add layer\n",
    "fig.add_layer(heat_layer)\n",
    "\n",
    "# Display figure\n",
    "fig"
   ]
  },
  {
   "cell_type": "markdown",
   "metadata": {},
   "source": [
    "### Create new DataFrame fitting weather criteria\n",
    "* Narrow down the cities to fit weather conditions.\n",
    "* Drop any rows will null values."
   ]
  },
  {
   "cell_type": "markdown",
   "metadata": {},
   "source": [
    "### Hotel Map\n",
    "* Store into variable named `hotel_df`.\n",
    "* Add a \"Hotel Name\" column to the DataFrame.\n",
    "* Set parameters to search for hotels with 5000 meters.\n",
    "* Hit the Google Places API for each city's coordinates.\n",
    "* Store the first Hotel result into the DataFrame.\n",
    "* Plot markers on top of the heatmap."
   ]
  },
  {
   "cell_type": "code",
   "execution_count": 5,
   "metadata": {},
   "outputs": [],
   "source": [
    "#compile ideal conditions\n",
    "hotel_df = weather_df.loc[(weather_df[\"Wind Speed\"] <= 5) & (weather_df[\"Cloudiness\"] <= 80) &  (weather_df[\"Temperature\"] >= 292) & (weather_df[\"Temperature\"] <= 300)]"
   ]
  },
  {
   "cell_type": "code",
   "execution_count": 6,
   "metadata": {},
   "outputs": [],
   "source": [
    "#new column w no values\n",
    "hotel_df=weather_df\n",
    "hotel_df['Hotel Name']=''"
   ]
  },
  {
   "cell_type": "code",
   "execution_count": 13,
   "metadata": {},
   "outputs": [],
   "source": [
    "hotel_df.dtypes"
   ]
  },
  {
   "cell_type": "code",
   "execution_count": 14,
   "metadata": {},
   "outputs": [],
   "source": [
    "#don't know if this was necessary\n",
    "hotel_df[\"Latitude\"] = hotel_df[\"Latitude\"].astype(str)\n",
    "hotel_df[\"Longitude\"] = hotel_df[\"Longitude\"].astype(str)"
   ]
  },
  {
   "cell_type": "code",
   "execution_count": 16,
   "metadata": {},
   "outputs": [],
   "source": [
    "#loop through reponse to append hotel name results to hotel_df\n",
    "for index, row in hotel_df.iterrows():\n",
    "    response = requests.get(url1 + row[\"Latitude\"] + \",\" + row[\"Longitude\"] + url2).json()\n",
    "    try:\n",
    "        hotel_df.loc[index, \"Hotel Name\"] = response['results'][0][\"name\"]\n",
    "    except:\n",
    "        hotel_df.loc[index, \"Hotel Name\"] = \"None\""
   ]
  },
  {
   "cell_type": "code",
   "execution_count": 19,
   "metadata": {},
   "outputs": [],
   "source": [
    "# NOTE: Do not change any of the code in this cell\n",
    "\n",
    "# Using the template add the hotel marks to the heatmap\n",
    "info_box_template = \"\"\"\n",
    "<dl>\n",
    "<dt>Name</dt><dd>{Hotel Name}</dd>\n",
    "<dt>City</dt><dd>{City}</dd>\n",
    "</dl>\n",
    "\"\"\"\n",
    "# Store the DataFrame Row\n",
    "# NOTE: be sure to update with your DataFrame name\n",
    "hotel_info = [info_box_template.format(**row) for index, row in hotel_df.iterrows()]\n",
    "locations = hotel_df[[\"Latitude\", \"Longitude\"]]"
   ]
  },
  {
   "cell_type": "code",
   "execution_count": 24,
   "metadata": {},
   "outputs": [
    {
     "data": {
      "application/vnd.jupyter.widget-view+json": {
       "model_id": "249d8c0f157548d9979dfe6856da6932",
       "version_major": 2,
       "version_minor": 0
      },
      "text/plain": [
       "Figure(layout=FigureLayout(height='420px'))"
      ]
     },
     "metadata": {},
     "output_type": "display_data"
    }
   ],
   "source": [
    "# Add marker layer ontop of heat map\n",
    "markers = gmaps.marker_layer(locations, hotel_info)\n",
    "fig.add_layer(markers)\n",
    "\n",
    "# Display figure\n",
    "fig"
   ]
  }
 ],
 "metadata": {
  "kernelspec": {
   "display_name": "Python 3",
   "language": "python",
   "name": "python3"
  },
  "language_info": {
   "codemirror_mode": {
    "name": "ipython",
    "version": 3
   },
   "file_extension": ".py",
   "mimetype": "text/x-python",
   "name": "python",
   "nbconvert_exporter": "python",
   "pygments_lexer": "ipython3",
   "version": "3.7.6"
  },
  "latex_envs": {
   "LaTeX_envs_menu_present": true,
   "autoclose": false,
   "autocomplete": true,
   "bibliofile": "biblio.bib",
   "cite_by": "apalike",
   "current_citInitial": 1,
   "eqLabelWithNumbers": true,
   "eqNumInitial": 1,
   "hotkeys": {
    "equation": "Ctrl-E",
    "itemize": "Ctrl-I"
   },
   "labels_anchors": false,
   "latex_user_defs": false,
   "report_style_numbering": false,
   "user_envs_cfg": false
  }
 },
 "nbformat": 4,
 "nbformat_minor": 4
}
